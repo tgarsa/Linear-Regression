{
 "cells": [
  {
   "cell_type": "markdown",
   "id": "7739315d",
   "metadata": {},
   "source": [
    "# Numerical Approach\n",
    "\n",
    "We use the minimization of a mean squared error function to calculate the linear regression model. \n",
    "\n",
    "The idea is to calculate the cost function (mse) and calculate the derivative of this function, the gradient, to understand how we can reduce this cost function. A pure numerical approach without any additional library to calculate any step. \n"
   ]
  },
  {
   "cell_type": "code",
   "execution_count": 1,
   "id": "d7c0e1a8",
   "metadata": {},
   "outputs": [],
   "source": [
    "# Tradicional imports\n",
    "import pandas as pd\n",
    "import numpy as np\n",
    "\n",
    "# To split the data set\n",
    "from sklearn.model_selection import train_test_split\n",
    "\n",
    "# Our functions. \n",
    "from utils import compute_cost, compute_gradient, gradient_descent"
   ]
  },
  {
   "cell_type": "code",
   "execution_count": 2,
   "id": "2e9adf09",
   "metadata": {},
   "outputs": [],
   "source": [
    "# Load the data\n",
    "df = pd.read_csv('../data/linear_numeric.csv')"
   ]
  },
  {
   "cell_type": "code",
   "execution_count": 3,
   "id": "5090edcf",
   "metadata": {},
   "outputs": [
    {
     "data": {
      "text/html": [
       "<div>\n",
       "<style scoped>\n",
       "    .dataframe tbody tr th:only-of-type {\n",
       "        vertical-align: middle;\n",
       "    }\n",
       "\n",
       "    .dataframe tbody tr th {\n",
       "        vertical-align: top;\n",
       "    }\n",
       "\n",
       "    .dataframe thead th {\n",
       "        text-align: right;\n",
       "    }\n",
       "</style>\n",
       "<table border=\"1\" class=\"dataframe\">\n",
       "  <thead>\n",
       "    <tr style=\"text-align: right;\">\n",
       "      <th></th>\n",
       "      <th>id</th>\n",
       "      <th>target</th>\n",
       "      <th>age</th>\n",
       "      <th>gender</th>\n",
       "      <th>A1</th>\n",
       "      <th>A2</th>\n",
       "      <th>A3</th>\n",
       "      <th>B1</th>\n",
       "      <th>B2</th>\n",
       "      <th>B3</th>\n",
       "      <th>...</th>\n",
       "      <th>D2</th>\n",
       "      <th>D3</th>\n",
       "      <th>E1</th>\n",
       "      <th>E2</th>\n",
       "      <th>E3</th>\n",
       "      <th>F1</th>\n",
       "      <th>F2</th>\n",
       "      <th>F3</th>\n",
       "      <th>G1</th>\n",
       "      <th>G2</th>\n",
       "    </tr>\n",
       "  </thead>\n",
       "  <tbody>\n",
       "    <tr>\n",
       "      <th>0</th>\n",
       "      <td>1067163490</td>\n",
       "      <td>0</td>\n",
       "      <td>47</td>\n",
       "      <td>1</td>\n",
       "      <td>2</td>\n",
       "      <td>2</td>\n",
       "      <td>2</td>\n",
       "      <td>5</td>\n",
       "      <td>4</td>\n",
       "      <td>4</td>\n",
       "      <td>...</td>\n",
       "      <td>2</td>\n",
       "      <td>1</td>\n",
       "      <td>2</td>\n",
       "      <td>4</td>\n",
       "      <td>3</td>\n",
       "      <td>1</td>\n",
       "      <td>4</td>\n",
       "      <td>4</td>\n",
       "      <td>4</td>\n",
       "      <td>1</td>\n",
       "    </tr>\n",
       "    <tr>\n",
       "      <th>1</th>\n",
       "      <td>1073181139</td>\n",
       "      <td>2</td>\n",
       "      <td>60</td>\n",
       "      <td>1</td>\n",
       "      <td>4</td>\n",
       "      <td>2</td>\n",
       "      <td>4</td>\n",
       "      <td>4</td>\n",
       "      <td>2</td>\n",
       "      <td>3</td>\n",
       "      <td>...</td>\n",
       "      <td>2</td>\n",
       "      <td>1</td>\n",
       "      <td>3</td>\n",
       "      <td>4</td>\n",
       "      <td>3</td>\n",
       "      <td>4</td>\n",
       "      <td>4</td>\n",
       "      <td>5</td>\n",
       "      <td>4</td>\n",
       "      <td>2</td>\n",
       "    </tr>\n",
       "    <tr>\n",
       "      <th>2</th>\n",
       "      <td>1074271959</td>\n",
       "      <td>0</td>\n",
       "      <td>57</td>\n",
       "      <td>0</td>\n",
       "      <td>2</td>\n",
       "      <td>2</td>\n",
       "      <td>2</td>\n",
       "      <td>5</td>\n",
       "      <td>5</td>\n",
       "      <td>4</td>\n",
       "      <td>...</td>\n",
       "      <td>1</td>\n",
       "      <td>1</td>\n",
       "      <td>4</td>\n",
       "      <td>4</td>\n",
       "      <td>5</td>\n",
       "      <td>2</td>\n",
       "      <td>2</td>\n",
       "      <td>2</td>\n",
       "      <td>2</td>\n",
       "      <td>2</td>\n",
       "    </tr>\n",
       "    <tr>\n",
       "      <th>3</th>\n",
       "      <td>1074896711</td>\n",
       "      <td>0</td>\n",
       "      <td>74</td>\n",
       "      <td>0</td>\n",
       "      <td>3</td>\n",
       "      <td>2</td>\n",
       "      <td>2</td>\n",
       "      <td>5</td>\n",
       "      <td>5</td>\n",
       "      <td>5</td>\n",
       "      <td>...</td>\n",
       "      <td>2</td>\n",
       "      <td>2</td>\n",
       "      <td>4</td>\n",
       "      <td>5</td>\n",
       "      <td>4</td>\n",
       "      <td>1</td>\n",
       "      <td>2</td>\n",
       "      <td>2</td>\n",
       "      <td>2</td>\n",
       "      <td>3</td>\n",
       "    </tr>\n",
       "    <tr>\n",
       "      <th>4</th>\n",
       "      <td>1077476451</td>\n",
       "      <td>0</td>\n",
       "      <td>79</td>\n",
       "      <td>1</td>\n",
       "      <td>4</td>\n",
       "      <td>5</td>\n",
       "      <td>2</td>\n",
       "      <td>5</td>\n",
       "      <td>5</td>\n",
       "      <td>5</td>\n",
       "      <td>...</td>\n",
       "      <td>2</td>\n",
       "      <td>2</td>\n",
       "      <td>3</td>\n",
       "      <td>4</td>\n",
       "      <td>4</td>\n",
       "      <td>3</td>\n",
       "      <td>1</td>\n",
       "      <td>1</td>\n",
       "      <td>3</td>\n",
       "      <td>2</td>\n",
       "    </tr>\n",
       "  </tbody>\n",
       "</table>\n",
       "<p>5 rows × 24 columns</p>\n",
       "</div>"
      ],
      "text/plain": [
       "           id  target  age  gender  A1  A2  A3  B1  B2  B3  ...  D2  D3  E1  \\\n",
       "0  1067163490       0   47       1   2   2   2   5   4   4  ...   2   1   2   \n",
       "1  1073181139       2   60       1   4   2   4   4   2   3  ...   2   1   3   \n",
       "2  1074271959       0   57       0   2   2   2   5   5   4  ...   1   1   4   \n",
       "3  1074896711       0   74       0   3   2   2   5   5   5  ...   2   2   4   \n",
       "4  1077476451       0   79       1   4   5   2   5   5   5  ...   2   2   3   \n",
       "\n",
       "   E2  E3  F1  F2  F3  G1  G2  \n",
       "0   4   3   1   4   4   4   1  \n",
       "1   4   3   4   4   5   4   2  \n",
       "2   4   5   2   2   2   2   2  \n",
       "3   5   4   1   2   2   2   3  \n",
       "4   4   4   3   1   1   3   2  \n",
       "\n",
       "[5 rows x 24 columns]"
      ]
     },
     "execution_count": 3,
     "metadata": {},
     "output_type": "execute_result"
    }
   ],
   "source": [
    "df.head()"
   ]
  },
  {
   "cell_type": "code",
   "execution_count": 4,
   "id": "6af33b0e",
   "metadata": {},
   "outputs": [],
   "source": [
    "X = np.array(df.iloc[:, 4:])\n",
    "y = np.array(df['target'])"
   ]
  },
  {
   "cell_type": "code",
   "execution_count": 5,
   "id": "5ac9c9dc",
   "metadata": {
    "scrolled": true
   },
   "outputs": [
    {
     "name": "stdout",
     "output_type": "stream",
     "text": [
      "dj_db at initial w,b: -1.0788177339901477\n",
      "dj_dw at initial w,b: \n",
      " [-3.16748768 -3.44827586 -3.24137931 -4.2364532  -3.5320197  -2.55665025\n",
      " -2.591133   -2.22167488 -2.56650246 -1.62561576 -1.33004926 -1.49261084\n",
      " -3.45320197 -3.72906404 -3.96551724 -2.65024631 -3.26600985 -4.22660099\n",
      " -2.57142857 -2.05418719]\n"
     ]
    }
   ],
   "source": [
    "m, n = X.shape\n",
    "\n",
    "# Compute and display gradient with w and b initialized to zeros\n",
    "w_init = np.zeros(n)\n",
    "b_init = 0.\n",
    "\n",
    "#Compute and display gradient \n",
    "tmp_dj_db, tmp_dj_dw = compute_gradient(X, y, w_init, b_init)\n",
    "print(f'dj_db at initial w,b: {tmp_dj_db}')\n",
    "print(f'dj_dw at initial w,b: \\n {tmp_dj_dw}')"
   ]
  },
  {
   "cell_type": "code",
   "execution_count": 6,
   "id": "78a13f76",
   "metadata": {},
   "outputs": [],
   "source": [
    "X_train, X_test, y_train, y_test = train_test_split(X, y,  test_size=0.3, random_state=123456)"
   ]
  },
  {
   "cell_type": "code",
   "execution_count": 7,
   "id": "2efc16b6",
   "metadata": {},
   "outputs": [
    {
     "data": {
      "text/plain": [
       "(142, 20)"
      ]
     },
     "execution_count": 7,
     "metadata": {},
     "output_type": "execute_result"
    }
   ],
   "source": [
    "X_train.shape"
   ]
  },
  {
   "cell_type": "code",
   "execution_count": 8,
   "id": "f988b50e",
   "metadata": {},
   "outputs": [
    {
     "data": {
      "text/plain": [
       "(61, 20)"
      ]
     },
     "execution_count": 8,
     "metadata": {},
     "output_type": "execute_result"
    }
   ],
   "source": [
    "X_test.shape"
   ]
  },
  {
   "cell_type": "code",
   "execution_count": 9,
   "id": "e9b3e255",
   "metadata": {},
   "outputs": [
    {
     "name": "stdout",
     "output_type": "stream",
     "text": [
      "Iteration     0: Cost 1.77. TEST 1.31\n",
      "Iteration  1500: Cost 1.14. TEST 0.72\n",
      "Iteration  3000: Cost 1.07. TEST 0.68\n",
      "Iteration  4500: Cost 1.03. TEST 0.66\n",
      "Iteration  6000: Cost 1.00. TEST 0.66\n",
      "Iteration  7500: Cost 0.98. TEST 0.65\n",
      "Iteration  9000: Cost 0.96. TEST 0.65\n",
      "Iteration 10500: Cost 0.94. TEST 0.66\n",
      "Iteration 12000: Cost 0.93. TEST 0.66\n",
      "Iteration 13500: Cost 0.92. TEST 0.66\n",
      "Iteration 15000: Cost 0.91. TEST 0.67\n"
     ]
    }
   ],
   "source": [
    "# initialize parameters\n",
    "initial_w = np.zeros_like(w_init)\n",
    "initial_b = 0.\n",
    "\n",
    "# some gradient descent settings\n",
    "iterations = 15000\n",
    "alpha = 5.0e-5\n",
    "# run gradient descent \n",
    "W_final, b_final, train_hist, test_hist, min_cost, min_cost_it = gradient_descent(X_train, \n",
    "                                                           y_train,\n",
    "                                                           X_test, \n",
    "                                                           y_test, \n",
    "                                                           initial_w, \n",
    "                                                            initial_b,\n",
    "                                                            compute_cost, \n",
    "                                                            compute_gradient,\n",
    "                                                            alpha, \n",
    "                                                            iterations)"
   ]
  },
  {
   "cell_type": "code",
   "execution_count": 15,
   "id": "5f2dbbdb",
   "metadata": {},
   "outputs": [
    {
     "data": {
      "text/plain": [
       "(0.6540630819783803, 7624)"
      ]
     },
     "execution_count": 15,
     "metadata": {},
     "output_type": "execute_result"
    }
   ],
   "source": [
    "min_cost, min_cost_it "
   ]
  },
  {
   "cell_type": "code",
   "execution_count": 10,
   "id": "20d18195",
   "metadata": {},
   "outputs": [],
   "source": [
    "# print(f\"b,w found by gradient descent: {b_final:0.2f},{w_final} \")"
   ]
  },
  {
   "cell_type": "code",
   "execution_count": 11,
   "id": "959b111c",
   "metadata": {
    "scrolled": false
   },
   "outputs": [],
   "source": [
    "# m,_ = X_train.shape\n",
    "# m,_ = X_test.shape\n",
    "# for i in range(m):\n",
    "#     print(f\"prediction: {np.dot(X_train[i], w_final) + b_final:0.2f}, target value: {y_train[i]}\")\n",
    "#     print(f\"prediction: {np.dot(X_test[i], w_final) + b_final:0.2f}, target value: {y_test[i]}\")"
   ]
  },
  {
   "cell_type": "code",
   "execution_count": 12,
   "id": "1fe3e21c",
   "metadata": {},
   "outputs": [
    {
     "name": "stdout",
     "output_type": "stream",
     "text": [
      "Final cost: 0.6658565236168925\n"
     ]
    }
   ],
   "source": [
    "print(f'Final cost: {compute_cost(X_test, y_test, W_final, b_final)}')"
   ]
  },
  {
   "cell_type": "code",
   "execution_count": 13,
   "id": "538b4091",
   "metadata": {},
   "outputs": [],
   "source": [
    "import matplotlib.pyplot as plt"
   ]
  },
  {
   "cell_type": "code",
   "execution_count": 14,
   "id": "2a29e6b9",
   "metadata": {},
   "outputs": [
    {
     "data": {
      "image/png": "[encoded data removed]",
      "text/plain": [
       "<Figure size 432x288 with 1 Axes>"
      ]
     },
     "metadata": {
      "needs_background": "light"
     },
     "output_type": "display_data"
    }
   ],
   "source": [
    "# train_hist, test_hist\n",
    "fig, ax = plt.subplots()\n",
    "ax.plot(train_hist, c='r', label='Train')\n",
    "ax.plot(test_hist, c='g', label ='Test')\n",
    "plt.title(\"Train Cost vs Test Cost\")\n",
    "plt.xlabel(\"Iterations\"); \n",
    "plt.ylabel(\"Cost\"); \n",
    "plt.legend()\n",
    "plt.show()"
   ]
  }
 ],
 "metadata": {
  "kernelspec": {
   "display_name": "Python 3 (ipykernel)",
   "language": "python",
   "name": "python3"
  },
  "language_info": {
   "codemirror_mode": {
    "name": "ipython",
    "version": 3
   },
   "file_extension": ".py",
   "mimetype": "text/x-python",
   "name": "python",
   "nbconvert_exporter": "python",
   "pygments_lexer": "ipython3",
   "version": "3.9.12"
  }
 },
 "nbformat": 4,
 "nbformat_minor": 5
}
