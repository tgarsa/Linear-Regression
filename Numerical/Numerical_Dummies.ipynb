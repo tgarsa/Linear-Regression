{
 "cells": [
  {
   "cell_type": "markdown",
   "id": "7739315d",
   "metadata": {},
   "source": [
    "# Numerical Approach\n",
    "\n",
    "We use the minimization of a mean squared error function to calculate the linear regression model. \n",
    "\n",
    "The idea is to calculate the cost function (mse) and calculate the derivative of this function, the gradient, to understand how we can reduce this cost function. A pure numerical approach without any additional library to calculate any step. \n"
   ]
  },
  {
   "cell_type": "code",
   "execution_count": 1,
   "id": "d7c0e1a8",
   "metadata": {},
   "outputs": [],
   "source": [
    "# Tradicional imports\n",
    "import pandas as pd\n",
    "import numpy as np\n",
    "\n",
    "# To split the data set\n",
    "from sklearn.model_selection import train_test_split\n",
    "\n",
    "# Our functions. \n",
    "from utils import compute_cost, compute_gradient, gradient_descent"
   ]
  },
  {
   "cell_type": "code",
   "execution_count": 2,
   "id": "2e9adf09",
   "metadata": {},
   "outputs": [],
   "source": [
    "# Load the data\n",
    "df = pd.read_csv('../data/linear_numeric_dummies.csv')"
   ]
  },
  {
   "cell_type": "code",
   "execution_count": 3,
   "id": "5090edcf",
   "metadata": {},
   "outputs": [
    {
     "data": {
      "text/html": [
       "<div>\n",
       "<style scoped>\n",
       "    .dataframe tbody tr th:only-of-type {\n",
       "        vertical-align: middle;\n",
       "    }\n",
       "\n",
       "    .dataframe tbody tr th {\n",
       "        vertical-align: top;\n",
       "    }\n",
       "\n",
       "    .dataframe thead th {\n",
       "        text-align: right;\n",
       "    }\n",
       "</style>\n",
       "<table border=\"1\" class=\"dataframe\">\n",
       "  <thead>\n",
       "    <tr style=\"text-align: right;\">\n",
       "      <th></th>\n",
       "      <th>id</th>\n",
       "      <th>age</th>\n",
       "      <th>gender</th>\n",
       "      <th>target</th>\n",
       "      <th>S001_1</th>\n",
       "      <th>S001_2</th>\n",
       "      <th>S001_3</th>\n",
       "      <th>S001_4</th>\n",
       "      <th>S001_5</th>\n",
       "      <th>S002_1</th>\n",
       "      <th>...</th>\n",
       "      <th>R003_4</th>\n",
       "      <th>R003_5</th>\n",
       "      <th>T003_1</th>\n",
       "      <th>T003_2</th>\n",
       "      <th>T003_3</th>\n",
       "      <th>T003_4</th>\n",
       "      <th>T004_1</th>\n",
       "      <th>T004_2</th>\n",
       "      <th>T004_3</th>\n",
       "      <th>T004_4</th>\n",
       "    </tr>\n",
       "  </thead>\n",
       "  <tbody>\n",
       "    <tr>\n",
       "      <th>0</th>\n",
       "      <td>1067163490</td>\n",
       "      <td>47</td>\n",
       "      <td>1</td>\n",
       "      <td>0</td>\n",
       "      <td>0</td>\n",
       "      <td>1</td>\n",
       "      <td>0</td>\n",
       "      <td>0</td>\n",
       "      <td>0</td>\n",
       "      <td>0</td>\n",
       "      <td>...</td>\n",
       "      <td>1</td>\n",
       "      <td>0</td>\n",
       "      <td>0</td>\n",
       "      <td>0</td>\n",
       "      <td>0</td>\n",
       "      <td>1</td>\n",
       "      <td>1</td>\n",
       "      <td>0</td>\n",
       "      <td>0</td>\n",
       "      <td>0</td>\n",
       "    </tr>\n",
       "    <tr>\n",
       "      <th>1</th>\n",
       "      <td>1073181139</td>\n",
       "      <td>60</td>\n",
       "      <td>1</td>\n",
       "      <td>2</td>\n",
       "      <td>0</td>\n",
       "      <td>0</td>\n",
       "      <td>0</td>\n",
       "      <td>1</td>\n",
       "      <td>0</td>\n",
       "      <td>0</td>\n",
       "      <td>...</td>\n",
       "      <td>0</td>\n",
       "      <td>1</td>\n",
       "      <td>0</td>\n",
       "      <td>0</td>\n",
       "      <td>0</td>\n",
       "      <td>1</td>\n",
       "      <td>0</td>\n",
       "      <td>1</td>\n",
       "      <td>0</td>\n",
       "      <td>0</td>\n",
       "    </tr>\n",
       "    <tr>\n",
       "      <th>2</th>\n",
       "      <td>1074271959</td>\n",
       "      <td>57</td>\n",
       "      <td>0</td>\n",
       "      <td>0</td>\n",
       "      <td>0</td>\n",
       "      <td>1</td>\n",
       "      <td>0</td>\n",
       "      <td>0</td>\n",
       "      <td>0</td>\n",
       "      <td>0</td>\n",
       "      <td>...</td>\n",
       "      <td>0</td>\n",
       "      <td>0</td>\n",
       "      <td>0</td>\n",
       "      <td>1</td>\n",
       "      <td>0</td>\n",
       "      <td>0</td>\n",
       "      <td>0</td>\n",
       "      <td>1</td>\n",
       "      <td>0</td>\n",
       "      <td>0</td>\n",
       "    </tr>\n",
       "    <tr>\n",
       "      <th>3</th>\n",
       "      <td>1074896711</td>\n",
       "      <td>74</td>\n",
       "      <td>0</td>\n",
       "      <td>0</td>\n",
       "      <td>0</td>\n",
       "      <td>0</td>\n",
       "      <td>1</td>\n",
       "      <td>0</td>\n",
       "      <td>0</td>\n",
       "      <td>0</td>\n",
       "      <td>...</td>\n",
       "      <td>0</td>\n",
       "      <td>0</td>\n",
       "      <td>0</td>\n",
       "      <td>1</td>\n",
       "      <td>0</td>\n",
       "      <td>0</td>\n",
       "      <td>0</td>\n",
       "      <td>0</td>\n",
       "      <td>1</td>\n",
       "      <td>0</td>\n",
       "    </tr>\n",
       "    <tr>\n",
       "      <th>4</th>\n",
       "      <td>1077476451</td>\n",
       "      <td>79</td>\n",
       "      <td>1</td>\n",
       "      <td>0</td>\n",
       "      <td>0</td>\n",
       "      <td>0</td>\n",
       "      <td>0</td>\n",
       "      <td>1</td>\n",
       "      <td>0</td>\n",
       "      <td>0</td>\n",
       "      <td>...</td>\n",
       "      <td>0</td>\n",
       "      <td>0</td>\n",
       "      <td>0</td>\n",
       "      <td>0</td>\n",
       "      <td>1</td>\n",
       "      <td>0</td>\n",
       "      <td>0</td>\n",
       "      <td>1</td>\n",
       "      <td>0</td>\n",
       "      <td>0</td>\n",
       "    </tr>\n",
       "  </tbody>\n",
       "</table>\n",
       "<p>5 rows × 93 columns</p>\n",
       "</div>"
      ],
      "text/plain": [
       "           id  age  gender  target  S001_1  S001_2  S001_3  S001_4  S001_5  \\\n",
       "0  1067163490   47       1       0       0       1       0       0       0   \n",
       "1  1073181139   60       1       2       0       0       0       1       0   \n",
       "2  1074271959   57       0       0       0       1       0       0       0   \n",
       "3  1074896711   74       0       0       0       0       1       0       0   \n",
       "4  1077476451   79       1       0       0       0       0       1       0   \n",
       "\n",
       "   S002_1  ...  R003_4  R003_5  T003_1  T003_2  T003_3  T003_4  T004_1  \\\n",
       "0       0  ...       1       0       0       0       0       1       1   \n",
       "1       0  ...       0       1       0       0       0       1       0   \n",
       "2       0  ...       0       0       0       1       0       0       0   \n",
       "3       0  ...       0       0       0       1       0       0       0   \n",
       "4       0  ...       0       0       0       0       1       0       0   \n",
       "\n",
       "   T004_2  T004_3  T004_4  \n",
       "0       0       0       0  \n",
       "1       1       0       0  \n",
       "2       1       0       0  \n",
       "3       0       1       0  \n",
       "4       1       0       0  \n",
       "\n",
       "[5 rows x 93 columns]"
      ]
     },
     "execution_count": 3,
     "metadata": {},
     "output_type": "execute_result"
    }
   ],
   "source": [
    "df.head()"
   ]
  },
  {
   "cell_type": "code",
   "execution_count": 4,
   "id": "6af33b0e",
   "metadata": {},
   "outputs": [],
   "source": [
    "X = np.array(df.iloc[:, 4:])\n",
    "y = np.array(df['target'])"
   ]
  },
  {
   "cell_type": "code",
   "execution_count": 5,
   "id": "5ac9c9dc",
   "metadata": {
    "scrolled": true
   },
   "outputs": [
    {
     "name": "stdout",
     "output_type": "stream",
     "text": [
      "dj_db at initial w,b: -1.0788177339901477\n",
      "dj_dw at initial w,b: \n",
      " [-0.09852217 -0.24137931 -0.41871921 -0.27093596 -0.04926108 -0.08866995\n",
      " -0.20689655 -0.26600985 -0.43842365 -0.07881773 -0.10837438 -0.27093596\n",
      " -0.30049261 -0.30541872 -0.09359606 -0.03940887 -0.05418719 -0.22660099\n",
      " -0.38423645 -0.37438424 -0.06403941 -0.28571429 -0.25615764 -0.2364532\n",
      " -0.2364532  -0.37931034 -0.25615764 -0.16748768 -0.21674877 -0.0591133\n",
      " -0.33990148 -0.25123153 -0.26600985 -0.15763547 -0.06403941 -0.48768473\n",
      " -0.19211823 -0.26600985 -0.11330049 -0.01970443 -0.37438424 -0.2364532\n",
      " -0.23152709 -0.15763547 -0.07881773 -0.5320197  -0.54679803 -0.82758621\n",
      " -0.25123153 -0.66502463 -0.4137931  -0.03940887 -0.27093596 -0.29064039\n",
      " -0.38916256 -0.08866995 -0.08866995 -0.12315271 -0.29064039 -0.35960591\n",
      " -0.21674877 -0.04926108 -0.07881773 -0.24630542 -0.50246305 -0.20197044\n",
      " -0.31034483 -0.2364532  -0.33990148 -0.11330049 -0.07881773 -0.17241379\n",
      " -0.17241379 -0.2955665  -0.33004926 -0.10837438 -0.00492611 -0.0591133\n",
      " -0.24137931 -0.48768473 -0.28571429 -0.23152709 -0.3546798  -0.33990148\n",
      " -0.15270936 -0.42364532 -0.42857143 -0.13300493 -0.09359606]\n"
     ]
    }
   ],
   "source": [
    "m, n = X.shape\n",
    "\n",
    "# Compute and display gradient with w and b initialized to zeros\n",
    "w_init = np.zeros(n)\n",
    "b_init = 0.\n",
    "\n",
    "#Compute and display gradient \n",
    "tmp_dj_db, tmp_dj_dw = compute_gradient(X, y, w_init, b_init)\n",
    "print(f'dj_db at initial w,b: {tmp_dj_db}')\n",
    "print(f'dj_dw at initial w,b: \\n {tmp_dj_dw}')"
   ]
  },
  {
   "cell_type": "code",
   "execution_count": 6,
   "id": "78a13f76",
   "metadata": {},
   "outputs": [],
   "source": [
    "X_train, X_test, y_train, y_test = train_test_split(X, y,  test_size=0.3, random_state=123456)"
   ]
  },
  {
   "cell_type": "code",
   "execution_count": 7,
   "id": "20d18195",
   "metadata": {},
   "outputs": [
    {
     "name": "stdout",
     "output_type": "stream",
     "text": [
      "Iteration     0: Cost 1.78. TEST 1.32\n",
      "Iteration  5000: Cost 1.12. TEST 0.72\n",
      "Iteration 10000: Cost 1.02. TEST 0.66\n",
      "Iteration 15000: Cost 0.95. TEST 0.63\n",
      "Iteration 20000: Cost 0.90. TEST 0.62\n",
      "Iteration 25000: Cost 0.86. TEST 0.61\n",
      "Iteration 30000: Cost 0.83. TEST 0.61\n",
      "Iteration 35000: Cost 0.81. TEST 0.61\n",
      "Iteration 40000: Cost 0.78. TEST 0.61\n",
      "Iteration 45000: Cost 0.76. TEST 0.61\n",
      "Iteration 50000: Cost 0.75. TEST 0.62\n"
     ]
    }
   ],
   "source": [
    "# initialize parameters\n",
    "initial_w = np.zeros_like(w_init)\n",
    "initial_b = 0.\n",
    "\n",
    "# some gradient descent settings\n",
    "iterations = 50000\n",
    "alpha = 5.0e-5\n",
    "# run gradient descent \n",
    "W_final, b_final, train_hist, test_hist,  min_cost, min_cost_it = gradient_descent(X_train, \n",
    "                                                           y_train,\n",
    "                                                           X_test, \n",
    "                                                           y_test, \n",
    "                                                           initial_w, \n",
    "                                                            initial_b,\n",
    "                                                            compute_cost, \n",
    "                                                            compute_gradient,\n",
    "                                                            alpha, \n",
    "                                                            iterations)"
   ]
  },
  {
   "cell_type": "code",
   "execution_count": 14,
   "id": "b69789a8",
   "metadata": {},
   "outputs": [
    {
     "data": {
      "text/plain": [
       "(0.6058080165324186, 32202)"
      ]
     },
     "execution_count": 14,
     "metadata": {},
     "output_type": "execute_result"
    }
   ],
   "source": [
    "min_cost, min_cost_it"
   ]
  },
  {
   "cell_type": "code",
   "execution_count": 8,
   "id": "3cb71a9f",
   "metadata": {},
   "outputs": [],
   "source": [
    "# print(f\"b,w found by gradient descent: {b_final:0.2f},{w_final} \")"
   ]
  },
  {
   "cell_type": "code",
   "execution_count": 9,
   "id": "959b111c",
   "metadata": {
    "scrolled": false
   },
   "outputs": [],
   "source": [
    "# m,_ = X_train.shape\n",
    "# m,_ = X_test.shape\n",
    "# for i in range(m):\n",
    "#     print(f\"prediction: {np.dot(X_train[i], w_final) + b_final:0.2f}, target value: {y_train[i]}\")\n",
    "#     print(f\"prediction: {np.dot(X_test[i], w_final) + b_final:0.2f}, target value: {y_test[i]}\")"
   ]
  },
  {
   "cell_type": "code",
   "execution_count": 10,
   "id": "b0887ecb",
   "metadata": {},
   "outputs": [
    {
     "name": "stdout",
     "output_type": "stream",
     "text": [
      "Final cost: 0.6171765824205906\n"
     ]
    }
   ],
   "source": [
    "print(f'Final cost: {compute_cost(X_test, y_test, W_final, b_final)}')"
   ]
  },
  {
   "cell_type": "code",
   "execution_count": 11,
   "id": "1262ec06",
   "metadata": {},
   "outputs": [],
   "source": [
    "import matplotlib.pyplot as plt"
   ]
  },
  {
   "cell_type": "code",
   "execution_count": 12,
   "id": "f1957af6",
   "metadata": {},
   "outputs": [
    {
     "data": {
      "image/png": "[encoded data removed]",
      "text/plain": [
       "<Figure size 432x288 with 1 Axes>"
      ]
     },
     "metadata": {
      "needs_background": "light"
     },
     "output_type": "display_data"
    }
   ],
   "source": [
    "# train_hist, test_hist\n",
    "fig, ax = plt.subplots()\n",
    "ax.plot(train_hist, c='r', label='Train')\n",
    "ax.plot(test_hist, c='g', label ='Test')\n",
    "plt.title(\"Train Cost vs Test Cost\")\n",
    "plt.xlabel(\"Iterations\"); \n",
    "plt.ylabel(\"Cost\"); \n",
    "plt.legend()\n",
    "plt.show()"
   ]
  }
 ],
 "metadata": {
  "kernelspec": {
   "display_name": "Python 3 (ipykernel)",
   "language": "python",
   "name": "python3"
  },
  "language_info": {
   "codemirror_mode": {
    "name": "ipython",
    "version": 3
   },
   "file_extension": ".py",
   "mimetype": "text/x-python",
   "name": "python",
   "nbconvert_exporter": "python",
   "pygments_lexer": "ipython3",
   "version": "3.9.12"
  }
 },
 "nbformat": 4,
 "nbformat_minor": 5
}
